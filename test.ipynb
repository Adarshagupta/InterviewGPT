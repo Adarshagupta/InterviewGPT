{
 "cells": [
  {
   "cell_type": "code",
   "execution_count": 21,
   "metadata": {
    "collapsed": true,
    "ExecuteTime": {
     "end_time": "2023-06-29T18:32:11.628410Z",
     "start_time": "2023-06-29T18:32:11.615918200Z"
    }
   },
   "outputs": [],
   "source": [
    "import boto3\n",
    "from botocore.exceptions import BotoCoreError, ClientError\n",
    "from contextlib import closing\n",
    "import os\n",
    "import sys\n",
    "import subprocess\n",
    "from tempfile import gettempdir\n",
    "import streamlit as st\n",
    "import base64"
   ]
  },
  {
   "cell_type": "code",
   "execution_count": 22,
   "outputs": [],
   "source": [
    "def autoplay_audio(file_path: str):\n",
    "    with open(file_path, \"rb\") as f:\n",
    "        data = f.read()\n",
    "        b64 = base64.b64encode(data).decode()\n",
    "        md = f\"\"\"\n",
    "            <audio controls autoplay=\"true\">\n",
    "            <source src=\"data:audio/mp3;base64,{b64}\" type=\"audio/mp3\">\n",
    "            </audio>\n",
    "            \"\"\"\n",
    "        st.markdown(\n",
    "            md,\n",
    "            unsafe_allow_html=True,\n",
    "        )"
   ],
   "metadata": {
    "collapsed": false,
    "ExecuteTime": {
     "end_time": "2023-06-29T18:32:12.322014400Z",
     "start_time": "2023-06-29T18:32:12.301070400Z"
    }
   }
  },
  {
   "cell_type": "code",
   "execution_count": 16,
   "outputs": [],
   "source": [
    "Session = boto3.Session(\n",
    "        aws_access_key_id = st.secrets['aws_access_key_id'],\n",
    "        aws_secret_access_key = st.secrets['aws_secret_access_key'],\n",
    "        region_name = \"us-east-1\"\n",
    "    )"
   ],
   "metadata": {
    "collapsed": false,
    "ExecuteTime": {
     "end_time": "2023-06-29T18:29:43.545202500Z",
     "start_time": "2023-06-29T18:29:43.519130700Z"
    }
   }
  },
  {
   "cell_type": "code",
   "execution_count": 17,
   "outputs": [],
   "source": [
    "Polly = Session.client(\"polly\")\n",
    "\n",
    "response = Polly.synthesize_speech(\n",
    "        Text= \"hello, my name is Joanna\",\n",
    "        OutputFormat=\"mp3\",\n",
    "        VoiceId=\"Joanna\")"
   ],
   "metadata": {
    "collapsed": false,
    "ExecuteTime": {
     "end_time": "2023-06-29T18:30:07.306016200Z",
     "start_time": "2023-06-29T18:30:06.786136500Z"
    }
   }
  },
  {
   "cell_type": "code",
   "execution_count": 18,
   "outputs": [],
   "source": [
    "if \"AudioStream\" in response:\n",
    "    with closing(response[\"AudioStream\"]) as stream:\n",
    "        output = os.path.join(gettempdir(), \"speech.mp3\")\n",
    "\n",
    "        try:\n",
    "            with open(output, \"wb\") as file:\n",
    "                file.write(stream.read())\n",
    "        except IOError as error:\n",
    "            print(\"I/O error: {}\".format(error))\n",
    "            sys.exit(-1)\n",
    "\n",
    "else:\n",
    "    print(\"Could not stream audio\")\n",
    "    sys.exit(-1)"
   ],
   "metadata": {
    "collapsed": false,
    "ExecuteTime": {
     "end_time": "2023-06-29T18:30:19.805900Z",
     "start_time": "2023-06-29T18:30:19.782086400Z"
    }
   }
  },
  {
   "cell_type": "code",
   "execution_count": 25,
   "outputs": [],
   "source": [
    "st.write(\"# Auto-playing Audio!\")"
   ],
   "metadata": {
    "collapsed": false,
    "ExecuteTime": {
     "end_time": "2023-06-29T18:33:34.955207200Z",
     "start_time": "2023-06-29T18:33:34.945273500Z"
    }
   }
  },
  {
   "cell_type": "code",
   "execution_count": 27,
   "outputs": [],
   "source": [
    "autoplay_audio(output)"
   ],
   "metadata": {
    "collapsed": false,
    "ExecuteTime": {
     "end_time": "2023-06-29T18:33:43.419176600Z",
     "start_time": "2023-06-29T18:33:43.388338500Z"
    }
   }
  },
  {
   "cell_type": "code",
   "execution_count": null,
   "outputs": [],
   "source": [],
   "metadata": {
    "collapsed": false
   }
  }
 ],
 "metadata": {
  "kernelspec": {
   "display_name": "Python 3",
   "language": "python",
   "name": "python3"
  },
  "language_info": {
   "codemirror_mode": {
    "name": "ipython",
    "version": 2
   },
   "file_extension": ".py",
   "mimetype": "text/x-python",
   "name": "python",
   "nbconvert_exporter": "python",
   "pygments_lexer": "ipython2",
   "version": "2.7.6"
  }
 },
 "nbformat": 4,
 "nbformat_minor": 0
}
